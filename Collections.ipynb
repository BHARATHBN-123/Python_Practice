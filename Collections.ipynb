{
 "cells": [
  {
   "cell_type": "markdown",
   "id": "839b6f9e",
   "metadata": {},
   "source": [
    "# NoteBook contents (Python Collections Module)\n",
    "**1. Counter (dict subclass for counting hashable objects)**"
   ]
  },
  {
   "cell_type": "markdown",
   "id": "ebfc805d",
   "metadata": {},
   "source": [
    "# Counter\n",
    "A counter is a sub-class of the dictionary. It is **used to keep the count of the elements in an iterable in the form of an unordered dictionary where the key represents the element in the iterable and value represents the count of that element in the iterable**."
   ]
  },
  {
   "cell_type": "code",
   "execution_count": 7,
   "id": "a010b8a3",
   "metadata": {},
   "outputs": [
    {
     "name": "stdout",
     "output_type": "stream",
     "text": [
      "Counter({'a': 3, 'b': 3, 'c': 1, 'd': 1, 'e': 1})\n",
      "Counter({'d': 120, 'c': 10, 'a': 4, 'b': 4, 'e': 1})\n",
      "Counter({'B': 5, 'A': 3, 'C': 2})\n"
     ]
    }
   ],
   "source": [
    "# importing the counter class from Collections module\n",
    "from collections import Counter\n",
    "\n",
    "#Counting Number of elements and storing in key value format (Dictionary Format)\n",
    "print(Counter(['a','b','a','b','c','d','e','a','b']))\n",
    "\n",
    "# applying the counter to dictionary where it gives the output in descending order\n",
    "print(Counter({'a': 4, 'b': 4, 'c': 10, 'd': 120, 'e': 1}))\n",
    "\n",
    "# with keyword arguments \n",
    "print(Counter(A=3, B=5, C=2))"
   ]
  }
 ],
 "metadata": {
  "kernelspec": {
   "display_name": "Python 3 (ipykernel)",
   "language": "python",
   "name": "python3"
  },
  "language_info": {
   "codemirror_mode": {
    "name": "ipython",
    "version": 3
   },
   "file_extension": ".py",
   "mimetype": "text/x-python",
   "name": "python",
   "nbconvert_exporter": "python",
   "pygments_lexer": "ipython3",
   "version": "3.9.7"
  }
 },
 "nbformat": 4,
 "nbformat_minor": 5
}
