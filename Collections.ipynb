{
 "cells": [
  {
   "cell_type": "markdown",
   "id": "d030fd19",
   "metadata": {},
   "source": [
    "# NoteBook contents (Python Collections Module)\n",
    "**1. Counter (dict subclass for counting hashable objects)**"
   ]
  },
  {
   "cell_type": "markdown",
   "id": "88c15bea",
   "metadata": {},
   "source": [
    "# Counter\n",
    "A counter is a sub-class of the dictionary. It is **used to keep the count of the elements in an iterable in the form of an unordered dictionary where the key represents the element in the iterable and value represents the count of that element in the iterable**."
   ]
  },
  {
   "cell_type": "code",
   "execution_count": null,
   "id": "b623c4b5",
   "metadata": {},
   "outputs": [],
   "source": []
  }
 ],
 "metadata": {
  "kernelspec": {
   "display_name": "Python 3 (ipykernel)",
   "language": "python",
   "name": "python3"
  },
  "language_info": {
   "codemirror_mode": {
    "name": "ipython",
    "version": 3
   },
   "file_extension": ".py",
   "mimetype": "text/x-python",
   "name": "python",
   "nbconvert_exporter": "python",
   "pygments_lexer": "ipython3",
   "version": "3.9.7"
  }
 },
 "nbformat": 4,
 "nbformat_minor": 5
}
