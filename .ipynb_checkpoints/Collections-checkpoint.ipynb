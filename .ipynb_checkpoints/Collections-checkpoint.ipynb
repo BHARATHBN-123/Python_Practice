{
 "cells": [
  {
   "cell_type": "markdown",
   "id": "839b6f9e",
   "metadata": {},
   "source": [
    "# NoteBook contents (Python Collections Module)\n",
    "**1. Counter (dict subclass for counting hashable objects)**\n",
    "\n",
    "**2. OrderdDict ( it is unlike dictionary, it remembers the order in which the keys were inserted)**\n",
    "\n",
    "**3. DefaultDict ( it assigns a default value for empty keys and avoids throwing keyerror)**\n",
    "\n",
    "**4. ChainMap (encapsulates many dictionaries into a single unit and returns a list of dictionaries)**"
   ]
  },
  {
   "cell_type": "markdown",
   "id": "ebfc805d",
   "metadata": {},
   "source": [
    "# Counter\n",
    "A counter is a sub-class of the dictionary. It is **used to keep the count of the elements in an iterable in the form of an unordered dictionary where the key represents the element in the iterable and value represents the count of that element in the iterable**."
   ]
  },
  {
   "cell_type": "code",
   "execution_count": 2,
   "id": "a010b8a3",
   "metadata": {},
   "outputs": [
    {
     "name": "stdout",
     "output_type": "stream",
     "text": [
      "Counter({'a': 3, 'b': 3, 'c': 1, 'd': 1, 'e': 1})\n",
      "Counter({'d': 120, 'c': 10, 'a': 4, 'b': 4, 'e': 1})\n",
      "Counter({'B': 5, 'A': 3, 'C': 2})\n"
     ]
    }
   ],
   "source": [
    "# importing the counter class from Collections module\n",
    "from collections import Counter\n",
    "\n",
    "#Counting Number of elements and storing in key value format (Dictionary Format)\n",
    "print(Counter(['a','b','a','b','c','d','e','a','b']))\n",
    "\n",
    "# applying the counter to dictionary where it gives the output in descending order\n",
    "print(Counter({'a': 4, 'b': 4, 'c': 10, 'd': 120, 'e': 1}))\n",
    "\n",
    "# with keyword arguments \n",
    "print(Counter(A=3, B=5, C=2))"
   ]
  },
  {
   "cell_type": "markdown",
   "id": "32319c0a",
   "metadata": {},
   "source": [
    "# OrderdDict\n",
    "\n",
    "An OrderedDict is also **a sub-class of dictionary but unlike dictionary, it remembers the order in which the keys were inserted**. "
   ]
  },
  {
   "cell_type": "code",
   "execution_count": 8,
   "id": "3bf92f46",
   "metadata": {},
   "outputs": [
    {
     "name": "stdout",
     "output_type": "stream",
     "text": [
      "Normal Dictionary:  a 1\n",
      "Normal Dictionary:  b 2\n",
      "Normal Dictionary:  c 3\n",
      "Normal Dictionary:  d 4\n",
      "\n",
      "OrderedDict:  a 1\n",
      "OrderedDict:  b 2\n",
      "OrderedDict:  c 3\n",
      "OrderedDict:  d 4\n"
     ]
    }
   ],
   "source": [
    "#importing the class OrderdDict from python collections module\n",
    "from collections import OrderedDict\n",
    "\n",
    "# compaeing normal dict to OrderedDict\n",
    "d = {}  #normal dictionary\n",
    "d['a'] = 1\n",
    "d['b'] = 2\n",
    "d['c'] = 3\n",
    "d['d'] = 4\n",
    "for key , values in d.items():\n",
    "    print(\"Normal Dictionary: \",key,values)\n",
    "print()\n",
    "\n",
    "d = OrderedDict()  #OrderedDict\n",
    "d['a'] = 1\n",
    "d['b'] = 2\n",
    "d['c'] = 3\n",
    "d['d'] = 4\n",
    "for key , values in d.items():\n",
    "    print(\"OrderedDict: \",key,values)"
   ]
  },
  {
   "cell_type": "markdown",
   "id": "ba68d869",
   "metadata": {},
   "source": [
    "**This is how OrderdDict remembers order of elements** "
   ]
  },
  {
   "cell_type": "code",
   "execution_count": 10,
   "id": "3cb16c2b",
   "metadata": {},
   "outputs": [
    {
     "name": "stdout",
     "output_type": "stream",
     "text": [
      "Before altering:  a 1\n",
      "Before altering:  b 2\n",
      "Before altering:  c 3\n",
      "Before altering:  d 4\n",
      "\n",
      "After altering:  b 2\n",
      "After altering:  c 3\n",
      "After altering:  d 4\n",
      "After altering:  a 1\n"
     ]
    }
   ],
   "source": [
    "d = OrderedDict()  #OrderedDict\n",
    "d['a'] = 1\n",
    "d['b'] = 2\n",
    "d['c'] = 3\n",
    "d['d'] = 4\n",
    "for key , values in d.items():\n",
    "    print(\"Before altering: \",key,values)\n",
    "print()\n",
    "d.pop('a') #Removing element \"a\" form dictionary\n",
    "d['a']=1 #inserting same element \"a\" to dictionary\n",
    "for key , values in d.items():\n",
    "    print(\"After altering: \",key,values)\n",
    "# the place of \"a\" is moved to last "
   ]
  },
  {
   "cell_type": "markdown",
   "id": "794e0aab",
   "metadata": {},
   "source": [
    "# DefaultDict\n",
    "\n",
    "A DefaultDict is also a sub-class to dictionary. **It is used to provide some default values for the key that does not exist and never raises a KeyError.**\n",
    "\n",
    "<u>**Syntax**<u>\n",
    "\n",
    "class collections.defaultdict(default_factory)\n",
    "\n",
    "<u>**initialization**<u>\n",
    "\n",
    "DefaultDict objects can be **initialized using DefaultDict() method by passing the data type as an argument.**"
   ]
  },
  {
   "cell_type": "code",
   "execution_count": 18,
   "id": "749ea210",
   "metadata": {},
   "outputs": [
    {
     "name": "stdout",
     "output_type": "stream",
     "text": [
      "Dictionary with values as integers:\n",
      "defaultdict(<class 'int'>, {1: 2, 2: 2, 3: 1, 5: 2, 4: 2, 6: 1})\n",
      "\n",
      "Dictionary with values as list:\n",
      "defaultdict(<class 'list'>, {0: [0], 1: [1], 2: [2], 3: [3], 4: [4], 5: [5], 6: [6], 7: [7], 8: [8], 9: [9]})\n"
     ]
    }
   ],
   "source": [
    "#importing the class DefaultDict from python collections module\n",
    "from collections import defaultdict\n",
    "\n",
    "##########initializing the defaultdict with int datatype\n",
    "d = defaultdict(int)\n",
    "#Creating a list for this operation\n",
    "L = [1,1,2,2,3,5,5,4,4,6]\n",
    "\n",
    "for l in L:\n",
    "    d[l]+=1\n",
    "print(\"Dictionary with values as integers:\") \n",
    "print(d)\n",
    "print()\n",
    "###################initializing the defaultdict with int datatype\n",
    "d = defaultdict(list)\n",
    "#Creating a list for this operation\n",
    "L = [1,1,2,2,3,5,5,4,4,6]\n",
    "\n",
    "for l in range(len(L)):\n",
    "    d[l].append(l)\n",
    "\n",
    "print(\"Dictionary with values as list:\") \n",
    "print(d)\n",
    "\n"
   ]
  },
  {
   "cell_type": "markdown",
   "id": "e1d47d94",
   "metadata": {},
   "source": [
    "# ChainMap\n",
    "\n",
    "**encapsulates many dictionaries into a single unit and returns a list of dictionaries**\n",
    "\n",
    "<u>**Syntax**<u>\n",
    "    \n",
    "<b>class collections.ChainMap(dict1, dict2)<b>\n"
   ]
  },
  {
   "cell_type": "code",
   "execution_count": null,
   "id": "7fd318b2",
   "metadata": {},
   "outputs": [],
   "source": []
  }
 ],
 "metadata": {
  "kernelspec": {
   "display_name": "Python 3 (ipykernel)",
   "language": "python",
   "name": "python3"
  },
  "language_info": {
   "codemirror_mode": {
    "name": "ipython",
    "version": 3
   },
   "file_extension": ".py",
   "mimetype": "text/x-python",
   "name": "python",
   "nbconvert_exporter": "python",
   "pygments_lexer": "ipython3",
   "version": "3.9.7"
  }
 },
 "nbformat": 4,
 "nbformat_minor": 5
}
